{
 "cells": [
  {
   "cell_type": "code",
   "execution_count": 1,
   "metadata": {},
   "outputs": [
    {
     "name": "stdout",
     "output_type": "stream",
     "text": [
      "\u001b[0m\u001b[01;32mC1.ipynb\u001b[0m*   \u001b[01;32mPy1.ipynb\u001b[0m*  \u001b[01;32mUntitled.ipynb\u001b[0m*   \u001b[01;32ma1.py\u001b[0m*\r\n",
      "\u001b[01;32mJS1.ipynb\u001b[0m*  \u001b[01;32mR1.ipynb\u001b[0m*   \u001b[01;32mUntitled1.ipynb\u001b[0m*  \u001b[01;32mread1.md\u001b[0m*\r\n"
     ]
    }
   ],
   "source": [
    "ls"
   ]
  }
 ],
 "metadata": {
  "kernelspec": {
   "display_name": "Python 3",
   "language": "python",
   "name": "python3"
  },
  "language_info": {
   "codemirror_mode": {
    "name": "ipython",
    "version": 3
   },
   "file_extension": ".py",
   "mimetype": "text/x-python",
   "name": "python",
   "nbconvert_exporter": "python",
   "pygments_lexer": "ipython3",
   "version": "3.8.3"
  }
 },
 "nbformat": 4,
 "nbformat_minor": 4
}
