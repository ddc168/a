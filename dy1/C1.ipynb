{
 "cells": [
  {
   "cell_type": "code",
   "execution_count": 2,
   "metadata": {},
   "outputs": [
    {
     "name": "stdout",
     "output_type": "stream",
     "text": [
      "Hello, World! \n"
     ]
    }
   ],
   "source": [
    "#include <stdio.h>\n",
    " \n",
    "int main()\n",
    "{\n",
    "    /* 我的第一个 C 程序 */\n",
    "    printf(\"Hello, World! \\n\");\n",
    " \n",
    "    return 0;\n",
    "}"
   ]
  }
 ],
 "metadata": {
  "kernelspec": {
   "display_name": "C",
   "language": "c",
   "name": "c"
  },
  "language_info": {
   "file_extension": ".c",
   "mimetype": "text/plain",
   "name": "c"
  }
 },
 "nbformat": 4,
 "nbformat_minor": 4
}